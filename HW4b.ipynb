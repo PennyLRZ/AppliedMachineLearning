{
 "cells": [
  {
   "cell_type": "code",
   "execution_count": 74,
   "metadata": {
    "collapsed": true
   },
   "outputs": [],
   "source": [
    "import numpy as np\n",
    "import matplotlib.pyplot as plt\n",
    "import pandas as pd\n",
    "import re as re\n",
    "import seaborn as sns\n",
    "import scipy.io as spio\n",
    "\n",
    "sns.set(style='ticks')"
   ]
  },
  {
   "cell_type": "code",
   "execution_count": 75,
   "metadata": {},
   "outputs": [],
   "source": [
    "# load the data from .mat files\n",
    "mat1 = spio.loadmat('h4b1.mat', squeeze_me=True)\n",
    "mat2 = spio.loadmat('h4b2.mat', squeeze_me=True)\n",
    "mat3 = spio.loadmat('h4b3.mat', squeeze_me=True)"
   ]
  },
  {
   "cell_type": "code",
   "execution_count": 76,
   "metadata": {},
   "outputs": [
    {
     "name": "stdout",
     "output_type": "stream",
     "text": [
      "/Users/apple/Desktop/ML/HW4b\n"
     ]
    }
   ],
   "source": [
    "cd /Users/apple/Desktop/ML/HW4b"
   ]
  },
  {
   "cell_type": "code",
   "execution_count": 6,
   "metadata": {
    "collapsed": true
   },
   "outputs": [],
   "source": [
    "import scipy.io as spio"
   ]
  },
  {
   "cell_type": "code",
   "execution_count": 77,
   "metadata": {
    "collapsed": true
   },
   "outputs": [],
   "source": [
    "FL1 = mat1['FL'];\n",
    "FLCost1 = mat1['FLCost'];\n",
    "\n",
    "FL2 = mat2['FL'];\n",
    "FLCost2 = mat2['FLCost'];\n",
    "\n",
    "FL3 = mat3['FL'];\n",
    "FLCost3 = mat3['FLCost'];"
   ]
  },
  {
   "cell_type": "code",
   "execution_count": 30,
   "metadata": {},
   "outputs": [
    {
     "data": {
      "text/plain": [
       "{'FL': array([[[[ 0.        ,  0.26093724,  0.73906276,  0.        ],\n",
       "          [ 0.        ,  0.68905387,  0.31094613,  0.        ],\n",
       "          [ 0.        ,  0.65488366,  0.34511634,  0.        ],\n",
       "          [ 0.        ,  0.1160852 ,  0.8839148 ,  0.        ]],\n",
       " \n",
       "         [[ 0.        ,  0.13889881,  0.18007011,  0.68103107],\n",
       "          [ 0.        ,  0.34773172,  0.54839527,  0.10387301],\n",
       "          [ 0.        ,  0.31185654,  0.38620585,  0.30193761],\n",
       "          [ 0.        ,  0.29391353,  0.52960818,  0.17647829]],\n",
       " \n",
       "         [[ 0.        ,  0.50623375,  0.16055425,  0.333212  ],\n",
       "          [ 0.        ,  0.09782208,  0.65366892,  0.248509  ],\n",
       "          [ 0.        ,  0.29044528,  0.47100027,  0.23855445],\n",
       "          [ 0.        ,  0.38711913,  0.28657033,  0.32631053]],\n",
       " \n",
       "         ..., \n",
       "         [[ 0.        ,  0.28888534,  0.10085086,  0.6102638 ],\n",
       "          [ 0.        ,  0.34501401,  0.32449358,  0.33049241],\n",
       "          [ 0.        ,  0.56118093,  0.05458566,  0.38423341],\n",
       "          [ 0.        ,  0.41103916,  0.35250842,  0.23645242]],\n",
       " \n",
       "         [[ 0.        ,  0.66152659,  0.12166539,  0.21680802],\n",
       "          [ 0.        ,  0.60356126,  0.36389426,  0.03254447],\n",
       "          [ 0.        ,  0.25640395,  0.33204555,  0.4115505 ],\n",
       "          [ 0.        ,  0.01452302,  0.49146166,  0.49401532]],\n",
       " \n",
       "         [[ 0.        ,  0.        ,  0.2189391 ,  0.7810609 ],\n",
       "          [ 0.        ,  0.        ,  0.39115204,  0.60884796],\n",
       "          [ 0.        ,  0.        ,  0.49240254,  0.50759746],\n",
       "          [ 0.        ,  0.        ,  0.46900056,  0.53099944]]],\n",
       " \n",
       " \n",
       "        [[[ 0.41341554,  0.54482484,  0.04175962,  0.        ],\n",
       "          [ 0.54949818,  0.41076791,  0.03973391,  0.        ],\n",
       "          [ 0.46754709,  0.25914874,  0.27330417,  0.        ],\n",
       "          [ 0.05741421,  0.30681715,  0.63576864,  0.        ]],\n",
       " \n",
       "         [[ 0.43272698,  0.23022294,  0.18137416,  0.15567593],\n",
       "          [ 0.28047787,  0.01749684,  0.33280535,  0.36921994],\n",
       "          [ 0.31122881,  0.15560509,  0.29550816,  0.23765794],\n",
       "          [ 0.1405268 ,  0.30501008,  0.46565048,  0.08881264]],\n",
       " \n",
       "         [[ 0.0409851 ,  0.04688847,  0.73512277,  0.17700366],\n",
       "          [ 0.34360823,  0.28744529,  0.17176557,  0.19718091],\n",
       "          [ 0.25527087,  0.49089895,  0.06435101,  0.18947917],\n",
       "          [ 0.1634345 ,  0.3680577 ,  0.143382  ,  0.32512579]],\n",
       " \n",
       "         ..., \n",
       "         [[ 0.4864896 ,  0.14396973,  0.06631228,  0.30322839],\n",
       "          [ 0.10274331,  0.05588942,  0.1107601 ,  0.73060717],\n",
       "          [ 0.27888642,  0.24941741,  0.43323538,  0.03846079],\n",
       "          [ 0.41948011,  0.11748651,  0.08035281,  0.38268057]],\n",
       " \n",
       "         [[ 0.11465956,  0.34255934,  0.28708735,  0.25569375],\n",
       "          [ 0.27695328,  0.17560871,  0.31812905,  0.22930896],\n",
       "          [ 0.43002484,  0.22360916,  0.3019502 ,  0.0444158 ],\n",
       "          [ 0.40567617,  0.31549726,  0.17711891,  0.10170766]],\n",
       " \n",
       "         [[ 0.24378871,  0.        ,  0.33324777,  0.42296352],\n",
       "          [ 0.12014209,  0.        ,  0.15667085,  0.72318706],\n",
       "          [ 0.63172623,  0.        ,  0.01942199,  0.34885178],\n",
       "          [ 0.39516414,  0.        ,  0.18728954,  0.41754632]]],\n",
       " \n",
       " \n",
       "        [[[ 0.37212068,  0.19307933,  0.43479999,  0.        ],\n",
       "          [ 0.10790291,  0.15479459,  0.7373025 ,  0.        ],\n",
       "          [ 0.36343476,  0.13300541,  0.50355983,  0.        ],\n",
       "          [ 0.4738649 ,  0.45400245,  0.07213265,  0.        ]],\n",
       " \n",
       "         [[ 0.37291673,  0.44621766,  0.08845062,  0.09241498],\n",
       "          [ 0.25118708,  0.13099576,  0.23645364,  0.38136352],\n",
       "          [ 0.17193532,  0.43545576,  0.17754843,  0.21506049],\n",
       "          [ 0.47078771,  0.32498817,  0.1424271 ,  0.06179702]],\n",
       " \n",
       "         [[ 0.04166892,  0.39367146,  0.24044849,  0.32421112],\n",
       "          [ 0.43403872,  0.09216621,  0.29288544,  0.18090963],\n",
       "          [ 0.09960825,  0.48246919,  0.2937196 ,  0.12420296],\n",
       "          [ 0.24106804,  0.26252078,  0.18030867,  0.31610251]],\n",
       " \n",
       "         ..., \n",
       "         [[ 0.01268331,  0.10318377,  0.25104906,  0.63308386],\n",
       "          [ 0.14950418,  0.43278269,  0.04107586,  0.37663727],\n",
       "          [ 0.22513955,  0.33836062,  0.30617111,  0.13032872],\n",
       "          [ 0.00175887,  0.77960505,  0.15964334,  0.05899274]],\n",
       " \n",
       "         [[ 0.14755964,  0.23823765,  0.31269166,  0.30151105],\n",
       "          [ 0.32404899,  0.35317065,  0.05455656,  0.26822379],\n",
       "          [ 0.17119525,  0.07212629,  0.49321252,  0.26346594],\n",
       "          [ 0.16700774,  0.41876903,  0.3668028 ,  0.04742043]],\n",
       " \n",
       "         [[ 0.22414448,  0.        ,  0.34200226,  0.43385326],\n",
       "          [ 0.4763903 ,  0.        ,  0.37156103,  0.15204866],\n",
       "          [ 0.38213688,  0.        ,  0.35000962,  0.2678535 ],\n",
       "          [ 0.02648396,  0.        ,  0.26677845,  0.70673759]]],\n",
       " \n",
       " \n",
       "        ..., \n",
       "        [[[ 0.0359404 ,  0.7340063 ,  0.2300533 ,  0.        ],\n",
       "          [ 0.4021681 ,  0.23571446,  0.36211744,  0.        ],\n",
       "          [ 0.35896064,  0.41749982,  0.22353954,  0.        ],\n",
       "          [ 0.52095069,  0.31928487,  0.15976444,  0.        ]],\n",
       " \n",
       "         [[ 0.37878383,  0.11731859,  0.27527595,  0.22862163],\n",
       "          [ 0.12242739,  0.27148396,  0.37074431,  0.23534434],\n",
       "          [ 0.18482206,  0.22732477,  0.25882763,  0.32902554],\n",
       "          [ 0.41275957,  0.35523899,  0.00495364,  0.2270478 ]],\n",
       " \n",
       "         [[ 0.53451782,  0.03175099,  0.42400687,  0.00972432],\n",
       "          [ 0.02789642,  0.48559375,  0.28870027,  0.19780955],\n",
       "          [ 0.28729028,  0.13395897,  0.28824855,  0.29050221],\n",
       "          [ 0.32368897,  0.23884052,  0.34438093,  0.09308958]],\n",
       " \n",
       "         ..., \n",
       "         [[ 0.1196974 ,  0.24355166,  0.49986784,  0.1368831 ],\n",
       "          [ 0.34041487,  0.27216531,  0.01412822,  0.37329161],\n",
       "          [ 0.25937247,  0.26448447,  0.14675444,  0.32938863],\n",
       "          [ 0.33316673,  0.41397255,  0.07918617,  0.17367455]],\n",
       " \n",
       "         [[ 0.13974407,  0.2784907 ,  0.44895385,  0.13281138],\n",
       "          [ 0.32711543,  0.54320445,  0.09723053,  0.03244959],\n",
       "          [ 0.15023874,  0.27006038,  0.43794103,  0.14175985],\n",
       "          [ 0.44071967,  0.23283559,  0.02678287,  0.29966187]],\n",
       " \n",
       "         [[ 0.37959553,  0.        ,  0.43068201,  0.18972245],\n",
       "          [ 0.47317703,  0.        ,  0.5055857 ,  0.02123727],\n",
       "          [ 0.22211493,  0.        ,  0.22300868,  0.55487638],\n",
       "          [ 0.90276765,  0.        ,  0.06425273,  0.03297961]]],\n",
       " \n",
       " \n",
       "        [[[ 0.00898427,  0.16721187,  0.82380386,  0.        ],\n",
       "          [ 0.39976482,  0.15891766,  0.44131752,  0.        ],\n",
       "          [ 0.3524895 ,  0.52570492,  0.12180558,  0.        ],\n",
       "          [ 0.70552246,  0.15409398,  0.14038356,  0.        ]],\n",
       " \n",
       "         [[ 0.32553872,  0.12530925,  0.28440264,  0.26474939],\n",
       "          [ 0.15140135,  0.19391749,  0.34516424,  0.30951693],\n",
       "          [ 0.26407009,  0.22241071,  0.21468951,  0.29882969],\n",
       "          [ 0.1165085 ,  0.33955466,  0.06008202,  0.48385482]],\n",
       " \n",
       "         [[ 0.29576593,  0.28015405,  0.14630514,  0.27777488],\n",
       "          [ 0.3136512 ,  0.22941524,  0.14338164,  0.31355192],\n",
       "          [ 0.32866033,  0.09719406,  0.27502052,  0.29912509],\n",
       "          [ 0.04775549,  0.23366215,  0.41998931,  0.29859305]],\n",
       " \n",
       "         ..., \n",
       "         [[ 0.05078026,  0.08713288,  0.43833889,  0.42374797],\n",
       "          [ 0.10333356,  0.01355744,  0.7358732 ,  0.1472358 ],\n",
       "          [ 0.17402558,  0.00435803,  0.25239013,  0.56922626],\n",
       "          [ 0.31081378,  0.11402853,  0.30406809,  0.2710896 ]],\n",
       " \n",
       "         [[ 0.28802949,  0.28879489,  0.27736458,  0.14581104],\n",
       "          [ 0.51505634,  0.23165649,  0.17360312,  0.07968405],\n",
       "          [ 0.05392179,  0.35366949,  0.4203931 ,  0.17201562],\n",
       "          [ 0.47939867,  0.42738997,  0.08546086,  0.0077505 ]],\n",
       " \n",
       "         [[ 0.22289422,  0.        ,  0.40180001,  0.37530578],\n",
       "          [ 0.67172346,  0.        ,  0.27210303,  0.0561735 ],\n",
       "          [ 0.51600157,  0.        ,  0.25723868,  0.22675975],\n",
       "          [ 0.32145121,  0.        ,  0.30786116,  0.37068763]]],\n",
       " \n",
       " \n",
       "        [[[ 0.48767125,  0.51232875,  0.        ,  0.        ],\n",
       "          [ 0.48440121,  0.51559879,  0.        ,  0.        ],\n",
       "          [ 0.84357249,  0.15642751,  0.        ,  0.        ],\n",
       "          [ 0.13818481,  0.86181519,  0.        ,  0.        ]],\n",
       " \n",
       "         [[ 0.47024716,  0.31480116,  0.        ,  0.21495168],\n",
       "          [ 0.36463354,  0.35237968,  0.        ,  0.28298678],\n",
       "          [ 0.39552903,  0.45412895,  0.        ,  0.15034202],\n",
       "          [ 0.66446308,  0.15926573,  0.        ,  0.17627118]],\n",
       " \n",
       "         [[ 0.0872455 ,  0.42610722,  0.        ,  0.48664727],\n",
       "          [ 0.49040749,  0.46529447,  0.        ,  0.04429804],\n",
       "          [ 0.31244408,  0.32945341,  0.        ,  0.35810251],\n",
       "          [ 0.43828074,  0.03366493,  0.        ,  0.52805433]],\n",
       " \n",
       "         ..., \n",
       "         [[ 0.1487846 ,  0.75532195,  0.        ,  0.09589345],\n",
       "          [ 0.19547532,  0.35431619,  0.        ,  0.45020849],\n",
       "          [ 0.19479653,  0.56078103,  0.        ,  0.24442244],\n",
       "          [ 0.14423715,  0.33593656,  0.        ,  0.51982628]],\n",
       " \n",
       "         [[ 0.27745872,  0.17447124,  0.        ,  0.54807004],\n",
       "          [ 0.04848769,  0.9025951 ,  0.        ,  0.04891721],\n",
       "          [ 0.32800844,  0.2261276 ,  0.        ,  0.44586396],\n",
       "          [ 0.08197514,  0.23916947,  0.        ,  0.67885539]],\n",
       " \n",
       "         [[ 0.        ,  0.        ,  0.        ,  0.        ],\n",
       "          [ 0.        ,  0.        ,  0.        ,  0.        ],\n",
       "          [ 0.        ,  0.        ,  0.        ,  0.        ],\n",
       "          [ 0.        ,  0.        ,  0.        ,  0.        ]]]]),\n",
       " 'FLCost': array([[    -0.,     -0.,     -0.,     -0.,     -0.,     -0.,     -0.,\n",
       "         -10000., -10000.,     -0.],\n",
       "        [    -0.,     -0.,     -0.,     -0., -10000.,     -0., -10000.,\n",
       "             -0.,     -0.,     -0.],\n",
       "        [    -0.,     -0., -10000.,     -0., -10000., -10000., -10000.,\n",
       "             -0.,     -0.,     -0.],\n",
       "        [    -0.,     -0.,     -0.,     -0.,     -0.,     -0.,     -0.,\n",
       "         -10000.,     -0.,     -0.],\n",
       "        [    -0.,     -0.,     -0.,     -0.,     -0.,     -0.,     -0.,\n",
       "             -0.,     -0.,     -0.],\n",
       "        [    -0.,     -0., -10000.,     -0.,     -0.,     -0., -10000.,\n",
       "             -0.,     -0.,     -0.],\n",
       "        [    -0.,     -0.,     -0.,     -0.,     -0.,     -0.,     -0.,\n",
       "             -0.,     -0.,     -0.],\n",
       "        [    -0.,     -0.,     -0., -10000.,     -0.,     -0.,     -0.,\n",
       "             -0.,     -0.,     -0.],\n",
       "        [    -0.,     -0.,     -0.,     -0.,     -0.,     -0.,     -0.,\n",
       "             -0.,     -0.,     -0.],\n",
       "        [    -0.,     -0.,     -0.,     -0.,     -0.,     -0.,     -0.,\n",
       "             -0., -10000.,  10000.]]),\n",
       " '__globals__': [],\n",
       " '__header__': b'MATLAB 5.0 MAT-file, Platform: MACI64, Created on: Mon Nov  6 13:23:32 2017',\n",
       " '__version__': '1.0'}"
      ]
     },
     "execution_count": 30,
     "metadata": {},
     "output_type": "execute_result"
    }
   ],
   "source": [
    "mat1"
   ]
  },
  {
   "cell_type": "code",
   "execution_count": 9,
   "metadata": {},
   "outputs": [
    {
     "data": {
      "text/plain": [
       "dict_keys(['__header__', '__version__', '__globals__', 'FL', 'FLCost'])"
      ]
     },
     "execution_count": 9,
     "metadata": {},
     "output_type": "execute_result"
    }
   ],
   "source": [
    "mat1.keys()"
   ]
  },
  {
   "cell_type": "code",
   "execution_count": 78,
   "metadata": {},
   "outputs": [],
   "source": [
    "def chooseAction(Q,S,epsilon):\n",
    "    var = np.random.random()\n",
    "    if var < epsilon:\n",
    "        a = np.random.randint(0,3)\n",
    "    else:\n",
    "        a = np.argmax(Q[S[0],S[1],:])\n",
    "    return a"
   ]
  },
  {
   "cell_type": "code",
   "execution_count": 79,
   "metadata": {},
   "outputs": [],
   "source": [
    "def newstate(FL,S,a):\n",
    "    a1 = np.argmax(np.random.multinomial(1,FL[S[0],S[1],a,:]))\n",
    "    if a1 == 0:\n",
    "        S_new=[S[0]-1,S[1]]\n",
    "        return S_new\n",
    "    if a1 == 1:\n",
    "        S_new=[S[0],S[1]+1]\n",
    "        return S_new\n",
    "    if a1 == 2:\n",
    "        S_new=[S[0]+1,S[1]]\n",
    "        return S_new\n",
    "    if a1 == 3:\n",
    "        S_new=[S[0],S[1]-1]\n",
    "        return S_new"
   ]
  },
  {
   "cell_type": "code",
   "execution_count": 80,
   "metadata": {
    "collapsed": true
   },
   "outputs": [],
   "source": [
    "def policy(Q,FL):\n",
    "    pol = np.zeros((Q.shape[0],Q.shape[1]))\n",
    "    for i in range(Q.shape[0]):\n",
    "        for j in range(Q.shape[1]):\n",
    "            pol[i,j] = np.argmax(Q[i,j,:])\n",
    "    return pol"
   ]
  },
  {
   "cell_type": "code",
   "execution_count": 81,
   "metadata": {
    "collapsed": true
   },
   "outputs": [],
   "source": [
    "def MaxQ(Q):\n",
    "    Qmax = np.zeros((Q.shape[0],Q.shape[1]))\n",
    "    for i in range(Q.shape[0]):\n",
    "        for j in range(Q.shape[1]):\n",
    "            Qmax[i,j] = max(Q[i,j,:])\n",
    "    return Qmax"
   ]
  },
  {
   "cell_type": "code",
   "execution_count": 12,
   "metadata": {},
   "outputs": [
    {
     "data": {
      "text/plain": [
       "array([[ 0.,  0.,  0.,  0.,  0.,  0.,  0.,  0.,  0.,  0.],\n",
       "       [ 0.,  0.,  0.,  0.,  0.,  0.,  0.,  0.,  0.,  0.],\n",
       "       [ 0.,  0.,  0.,  0.,  0.,  0.,  0.,  0.,  0.,  0.],\n",
       "       [ 0.,  0.,  0.,  0.,  0.,  0.,  0.,  0.,  0.,  0.],\n",
       "       [ 0.,  0.,  0.,  0.,  0.,  0.,  0.,  0.,  0.,  0.],\n",
       "       [ 0.,  0.,  0.,  0.,  0.,  0.,  0.,  0.,  0.,  0.],\n",
       "       [ 0.,  0.,  0.,  0.,  0.,  0.,  0.,  0.,  0.,  0.],\n",
       "       [ 0.,  0.,  0.,  0.,  0.,  0.,  0.,  0.,  0.,  0.],\n",
       "       [ 0.,  0.,  0.,  0.,  0.,  0.,  0.,  0.,  0.,  0.],\n",
       "       [ 0.,  0.,  0.,  0.,  0.,  0.,  0.,  0.,  0.,  0.]])"
      ]
     },
     "execution_count": 12,
     "metadata": {},
     "output_type": "execute_result"
    }
   ],
   "source": [
    "#Implement Q-table\n",
    "Q = np.zeros([10, 10])\n",
    "Q"
   ]
  },
  {
   "cell_type": "code",
   "execution_count": 82,
   "metadata": {},
   "outputs": [
    {
     "name": "stdout",
     "output_type": "stream",
     "text": [
      "finished!\n"
     ]
    }
   ],
   "source": [
    "# Homework 4b1\n",
    "Q1 = np.random.randn(FL1.shape[0],FL1.shape[1],FL1.shape[2])*0.01\n",
    "alpha = 0.05\n",
    "gamma = 1.0\n",
    "epsilon = 0.1\n",
    "R1_array = []\n",
    "for i in range(0,10000):\n",
    "    S_init1 = [0,0]\n",
    "    R_tot1 = 0.0\n",
    "    while S_init1 != [FL1.shape[0]-1,FL1.shape[1]-1]:\n",
    "        a = chooseAction(Q1,S_init1,epsilon)\n",
    "        q = Q1[S_init1[0], S_init1[1],a]\n",
    "        S_new = newstate(FL1,S_init1,a)\n",
    "        a_new = np.argmax(Q1[S_new[0],S_new[1],:])\n",
    "        q_new = Q1[S_new[0], S_new[1], a_new]\n",
    "        R = FLCost1[S_new[0], S_new[1]]\n",
    "        R_tot1 = R_tot1 + R\n",
    "        Q1[S_init1[0],S_init1[1],a] = q + alpha*(R+gamma*q_new-q)\n",
    "        S_init1 = S_new\n",
    "    R1_array.append(R_tot1)\n",
    "print('finished!')"
   ]
  },
  {
   "cell_type": "code",
   "execution_count": 66,
   "metadata": {},
   "outputs": [
    {
     "data": {
      "text/plain": [
       "array([[ 0.43272698,  0.23022294,  0.18137416,  0.15567593],\n",
       "       [ 0.28047787,  0.01749684,  0.33280535,  0.36921994],\n",
       "       [ 0.31122881,  0.15560509,  0.29550816,  0.23765794],\n",
       "       [ 0.1405268 ,  0.30501008,  0.46565048,  0.08881264]])"
      ]
     },
     "execution_count": 66,
     "metadata": {},
     "output_type": "execute_result"
    }
   ],
   "source": [
    "plt.plot(np.arange(len(R1_array)), R1_array)\n",
    "plt.show()"
   ]
  },
  {
   "cell_type": "code",
   "execution_count": 83,
   "metadata": {},
   "outputs": [
    {
     "data": {
      "image/png": "[encoded data removed]",
      "text/plain": [
       "<matplotlib.figure.Figure at 0x123af5fd0>"
      ]
     },
     "metadata": {},
     "output_type": "display_data"
    }
   ],
   "source": [
    "pol1 = policy(Q1,FL1)\n",
    "plt.imshow(pol1,cmap='coolwarm')\n",
    "plt.show()"
   ]
  },
  {
   "cell_type": "code",
   "execution_count": 84,
   "metadata": {},
   "outputs": [
    {
     "data": {
      "image/png": "[encoded data removed]",
      "text/plain": [
       "<matplotlib.figure.Figure at 0x123af5ac8>"
      ]
     },
     "metadata": {},
     "output_type": "display_data"
    }
   ],
   "source": [
    "Q1max = MaxQ(Q1)\n",
    "plt.imshow(Q1max,cmap='coolwarm')\n",
    "plt.colorbar()\n",
    "plt.show()"
   ]
  },
  {
   "cell_type": "code",
   "execution_count": 85,
   "metadata": {},
   "outputs": [
    {
     "name": "stdout",
     "output_type": "stream",
     "text": [
      "done!\n"
     ]
    }
   ],
   "source": [
    "# Homework 4b2\n",
    "Q2 = np.random.randn(FL2.shape[0],FL2.shape[1],FL2.shape[2])*0.01\n",
    "alpha = 0.05\n",
    "gamma = 1.0\n",
    "epsilon = 0.1\n",
    "R2_array = []\n",
    "for i in range(0,10000):\n",
    "    S_init2 = [0,0]\n",
    "    R_tot2 = 0.0\n",
    "    while S_init2 != [FL2.shape[0]-1,FL2.shape[1]-1]:\n",
    "        a = chooseAction(Q2,S_init2,epsilon)\n",
    "        q = Q2[S_init2[0], S_init2[1],a]\n",
    "        S_new = newstate(FL2,S_init2,a)\n",
    "        a_new = np.argmax(Q2[S_new[0],S_new[1],:])\n",
    "        q_new = Q2[S_new[0], S_new[1], a_new]\n",
    "        R = FLCost2[S_new[0], S_new[1]]\n",
    "        R_tot2 = R_tot2 + R\n",
    "        Q2[S_init2[0],S_init2[1],a] = q + alpha*(R+gamma*q_new-q)\n",
    "        S_init2 = S_new\n",
    "    R2_array.append(R_tot2)\n",
    "print('finished!')"
   ]
  },
  {
   "cell_type": "code",
   "execution_count": 86,
   "metadata": {},
   "outputs": [
    {
     "data": {
      "image/png": "[encoded data removed]",
      "text/plain": [
       "<matplotlib.figure.Figure at 0x123476ef0>"
      ]
     },
     "metadata": {},
     "output_type": "display_data"
    }
   ],
   "source": [
    "plt.plot(np.arange(len(R2_array)), R2_array)\n",
    "plt.show()"
   ]
  },
  {
   "cell_type": "code",
   "execution_count": 87,
   "metadata": {},
   "outputs": [
    {
     "data": {
      "image/png": "[encoded data removed]",
      "text/plain": [
       "<matplotlib.figure.Figure at 0x125b2b630>"
      ]
     },
     "metadata": {},
     "output_type": "display_data"
    }
   ],
   "source": [
    "pol2 = policy(Q2,FL2)\n",
    "plt.imshow(pol2,cmap='coolwarm')\n",
    "plt.show()"
   ]
  },
  {
   "cell_type": "code",
   "execution_count": 88,
   "metadata": {},
   "outputs": [
    {
     "data": {
      "image/png": "[encoded data removed]",
      "text/plain": [
       "<matplotlib.figure.Figure at 0x1263fb630>"
      ]
     },
     "metadata": {},
     "output_type": "display_data"
    }
   ],
   "source": [
    "Q2max = MaxQ(Q2)\n",
    "plt.imshow(Q2max,cmap='coolwarm')\n",
    "plt.colorbar()\n",
    "plt.show()"
   ]
  },
  {
   "cell_type": "code",
   "execution_count": null,
   "metadata": {},
   "outputs": [
    {
     "name": "stdout",
     "output_type": "stream",
     "text": [
      "1\n",
      "2\n",
      "3\n",
      "4\n",
      "5\n",
      "6\n",
      "7\n",
      "8\n",
      "9\n",
      "10\n",
      "11\n",
      "12\n",
      "13\n"
     ]
    }
   ],
   "source": [
    "# Homework 4b3\n",
    "Q3 = np.random.randn(FL3.shape[0],FL3.shape[1],FL3.shape[2])*0.01\n",
    "alpha = 0.05\n",
    "gamma = 1.0\n",
    "epsilon = 0.1\n",
    "R3_array = []\n",
    "count = 0\n",
    "for i in range(0,15):\n",
    "    count = count + 1\n",
    "    S_init3 = [0,0]\n",
    "    R_tot3 = 0.0\n",
    "    while S_init3 != [FL3.shape[0]-1,FL3.shape[1]-1]:\n",
    "        a = chooseAction(Q3,S_init3,epsilon)\n",
    "        q = Q3[S_init3[0], S_init3[1],a]\n",
    "        S_new = newstate(FL3,S_init3,a)\n",
    "        a_new = np.argmax(Q3[S_new[0],S_new[1],:])\n",
    "        q_new = Q3[S_new[0], S_new[1], a_new]\n",
    "        R = FLCost3[S_new[0], S_new[1]]\n",
    "        R_tot3 = R_tot3 + R\n",
    "        Q3[S_init3[0],S_init3[1],a] = q + alpha*(R+gamma*q_new-q)\n",
    "        S_init3 = S_new\n",
    "    R3_array.append(R_tot3)\n",
    "    print(count)\n",
    "print('done!')"
   ]
  },
  {
   "cell_type": "code",
   "execution_count": null,
   "metadata": {
    "collapsed": true
   },
   "outputs": [],
   "source": [
    "plt.plot(np.arange(len(R3_array)), R3_array)\n",
    "plt.show()"
   ]
  },
  {
   "cell_type": "code",
   "execution_count": null,
   "metadata": {
    "collapsed": true
   },
   "outputs": [],
   "source": [
    "pol3 = policy(Q3,FL3)\n",
    "plt.imshow(pol3,cmap='coolwarm')\n",
    "plt.show()"
   ]
  },
  {
   "cell_type": "code",
   "execution_count": null,
   "metadata": {
    "collapsed": true
   },
   "outputs": [],
   "source": [
    "Q3max = MaxQ(Q3)\n",
    "plt.imshow(Q3max,cmap='coolwarm')\n",
    "plt.colorbar()\n",
    "plt.show()"
   ]
  },
  {
   "cell_type": "code",
   "execution_count": null,
   "metadata": {
    "collapsed": true
   },
   "outputs": [],
   "source": []
  },
  {
   "cell_type": "code",
   "execution_count": null,
   "metadata": {
    "collapsed": true
   },
   "outputs": [],
   "source": []
  },
  {
   "cell_type": "code",
   "execution_count": null,
   "metadata": {
    "collapsed": true
   },
   "outputs": [],
   "source": []
  },
  {
   "cell_type": "code",
   "execution_count": 16,
   "metadata": {
    "collapsed": true
   },
   "outputs": [],
   "source": [
    "# import pandas as pd\n",
    "\n",
    "\n",
    "# class Qlearning:\n",
    "#     _qmatrix = None\n",
    "#     _learn_rate = None\n",
    "#     _discount_factor = None\n",
    "\n",
    "#     def __init__(self,\n",
    "#                  possible_states,\n",
    "#                  possible_actions,\n",
    "#                  initial_reward,\n",
    "#                  learning_rate\n",
    "#                  discount_factor):\n",
    "#         \"\"\"\n",
    "#         Initialise the q learning class with an initial matrix and the parameters for learning.\n",
    "#         :param possible_states: list of states the agent can be in\n",
    "#         :param possible_actions: list of actions the agent can perform\n",
    "#         :param initial_reward: the initial Q-values to be used in the matrix\n",
    "#         :param learning_rate: the learning rate used for Q-learning\n",
    "#         :param discount_factor: the discount factor used for Q-learning\n",
    "#         \"\"\"\n",
    "#         # Initialize the matrix with Q-values\n",
    "#         init_data = [[float(initial_reward) for _ in possible_states]\n",
    "#                      for _ in possible_actions]\n",
    "#         self._qmatrix = pd.DataFrame(data=init_data,\n",
    "#                                      index=possible_actions,\n",
    "#                                      columns=possible_states)\n",
    "\n",
    "#         # Save the parameters\n",
    "#         self._learn_rate = learning_rate\n",
    "#         self._discount_factor = discount_factor\n",
    "\n",
    "#     def get_best_action(self, state):\n",
    "#         \"\"\"\n",
    "#         Retrieve the action resulting in the highest Q-value for a given state.\n",
    "#         :param state: the state for which to determine the best action\n",
    "#         :return: the best action from the given state\n",
    "#         \"\"\"\n",
    "#         # Return the action (index) with maximum Q-value\n",
    "#         return self._qmatrix[[state]].idxmax().iloc[0]\n",
    "\n",
    "#     def update_model(self, state, action, reward, next_state):\n",
    "#         \"\"\"\n",
    "#         Update the Q-values for a given observation.\n",
    "#         :param state: The state the observation started in\n",
    "#         :param action: The action taken from that state\n",
    "#         :param reward: The reward retrieved from taking action from state\n",
    "#         :param next_state: The resulting next state of taking action from state\n",
    "#         \"\"\"\n",
    "#         # Update q_value for a state-action pair Q(s,a):\n",
    "#         # Q(s,a) = Q(s,a) + α( r + γmaxa' Q(s',a') - Q(s,a) )\n",
    "#         q_sa = self._qmatrix.ix[action, state]\n",
    "#         max_q_sa_next = self._qmatrix.ix[self.get_best_action(next_state), next_state]\n",
    "#         r = reward\n",
    "#         alpha = self._learn_rate\n",
    "#         gamma = self._discount_factor\n",
    "\n",
    "#         # Do the computation\n",
    "#         new_q_sa = q_sa + alpha * (r + gamma * max_q_sa_next - q_sa)\n",
    "#         self._qmatrix.set_value(action, state, new_q_sa)"
   ]
  },
  {
   "cell_type": "code",
   "execution_count": null,
   "metadata": {
    "collapsed": true
   },
   "outputs": [],
   "source": []
  },
  {
   "cell_type": "code",
   "execution_count": 45,
   "metadata": {},
   "outputs": [
    {
     "data": {
      "text/plain": [
       "array([[ 0.43272698,  0.23022294,  0.18137416,  0.15567593],\n",
       "       [ 0.28047787,  0.01749684,  0.33280535,  0.36921994],\n",
       "       [ 0.31122881,  0.15560509,  0.29550816,  0.23765794],\n",
       "       [ 0.1405268 ,  0.30501008,  0.46565048,  0.08881264]])"
      ]
     },
     "execution_count": 45,
     "metadata": {},
     "output_type": "execute_result"
    }
   ],
   "source": [
    "mat1['FL'][1][1]"
   ]
  },
  {
   "cell_type": "code",
   "execution_count": 62,
   "metadata": {},
   "outputs": [
    {
     "name": "stderr",
     "output_type": "stream",
     "text": [
      "/Users/apple/anaconda/lib/python3.6/site-packages/ipykernel_launcher.py:53: DeprecationWarning: \n",
      ".ix is deprecated. Please use\n",
      ".loc for label based indexing or\n",
      ".iloc for positional indexing\n",
      "\n",
      "See the documentation here:\n",
      "http://pandas.pydata.org/pandas-docs/stable/indexing.html#deprecate_ix\n"
     ]
    }
   ],
   "source": [
    "states = {1 ,2, 3, 4}\n",
    "actions = {1, 2, 3, 4}\n",
    "mat1['FL'][1][1]\n",
    "q1 = Qlearning(states, actions, mat1['FLCost'][1][2], mat1['FL'][1][2] , 0)\n",
    "\n",
    "for i in states: \n",
    "    q1.update_model(states, actions, mat1['FLCost'][1][2], i)\n",
    "    q1.get_best_action(i)\n"
   ]
  },
  {
   "cell_type": "code",
   "execution_count": 63,
   "metadata": {},
   "outputs": [
    {
     "name": "stdout",
     "output_type": "stream",
     "text": [
      "     1    2    3    4\n",
      "1  0.0  0.0  0.0  0.0\n",
      "2  0.0  0.0  0.0  0.0\n",
      "3  0.0  0.0  0.0  0.0\n",
      "4  0.0  0.0  0.0  0.0\n"
     ]
    }
   ],
   "source": [
    "print(q1._qmatrix)"
   ]
  },
  {
   "cell_type": "code",
   "execution_count": 73,
   "metadata": {},
   "outputs": [],
   "source": [
    "def choose_action(self, state):\n",
    "    q = [self.getQ(state, a) for a in self.actions]\n",
    "    maxQ = max(q)\n",
    " \n",
    "    if random.random() < 1:\n",
    "        best = [i for i in range(len(self.actions)) if q[i] == maxQ]\n",
    "        i = random.choice(best)\n",
    "    else:\n",
    "        i = q.index(maxQ)\n",
    " \n",
    "    action = self.actions[i]\n",
    " \n",
    "    return action"
   ]
  },
  {
   "cell_type": "code",
   "execution_count": null,
   "metadata": {
    "collapsed": true
   },
   "outputs": [],
   "source": []
  },
  {
   "cell_type": "code",
   "execution_count": null,
   "metadata": {
    "collapsed": true
   },
   "outputs": [],
   "source": [
    "qmax1 = qmax\n",
    "plt.imshow(qmax1)\n",
    "plt.colorbar()\n",
    "plt.show()"
   ]
  }
 ],
 "metadata": {
  "kernelspec": {
   "display_name": "Python 3",
   "language": "python",
   "name": "python3"
  },
  "language_info": {
   "codemirror_mode": {
    "name": "ipython",
    "version": 3
   },
   "file_extension": ".py",
   "mimetype": "text/x-python",
   "name": "python",
   "nbconvert_exporter": "python",
   "pygments_lexer": "ipython3",
   "version": "3.6.1"
  }
 },
 "nbformat": 4,
 "nbformat_minor": 2
}
